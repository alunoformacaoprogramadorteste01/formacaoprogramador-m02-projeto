{
  "nbformat": 4,
  "nbformat_minor": 0,
  "metadata": {
    "colab": {
      "provenance": []
    },
    "kernelspec": {
      "name": "python3",
      "display_name": "Python 3"
    },
    "language_info": {
      "name": "python"
    }
  },
  "cells": [
    {
      "cell_type": "markdown",
      "source": [
        "# JOGO PAR OU ÍMPAR\n",
        "\n",
        "1. Definir quem serão os jogadores\n",
        "2. Definir quem escolhe primeiro\n",
        "3. Definir a escolha entre PAR ou ÍMPAR\n",
        "4. Coletar os números escolhidos pelos jogadores\n",
        "5. Calcula se a soma dos números é PAR ou ÍMPAR\n",
        "5. Informar quem ganhou!"
      ],
      "metadata": {
        "id": "w8T8MAA8UI-S"
      }
    },
    {
      "cell_type": "code",
      "execution_count": null,
      "metadata": {
        "colab": {
          "base_uri": "https://localhost:8080/"
        },
        "id": "NxXdT4psSmoB",
        "outputId": "6d472f9e-4ac3-4ac4-e649-87fdac556f9d"
      },
      "outputs": [
        {
          "output_type": "stream",
          "name": "stdout",
          "text": [
            "-> Digite o nome do primeiro jogador:João\n",
            "-> Digite o nome do segundo jogador:Maria\n",
            "// Quem escolhe primeiro, João ou Maria?\n",
            "-> Digite 1 para escolher João ou 2 para escolher Maria.2\n",
            "// Digite 0 para escolher PAR ou 1 para escolher ÍMPAR\n",
            "-> Maria, você quer par ou ímpar?1\n",
            "// João, você ficou com par.\n",
            "-> Maria, escolha um número:5\n",
            "-> João, escolha um número:2\n",
            "// Maria venceu!\n"
          ]
        }
      ],
      "source": [
        "jogador1 = input('-> Digite o nome do primeiro jogador:')\n",
        "jogador2 = input('-> Digite o nome do segundo jogador:')\n",
        "\n",
        "print(f'// Quem escolhe primeiro, {jogador1} ou {jogador2}?')\n",
        "primeiro_jogador = input(f'-> Digite 1 para escolher {jogador1} ou 2 para escolher {jogador2}.')\n",
        "segundo_jogador = None\n",
        "\n",
        "if primeiro_jogador == \"1\":\n",
        "  primeiro_jogador = jogador1\n",
        "  segundo_jogador = jogador2\n",
        "elif primeiro_jogador == \"2\":\n",
        "  primeiro_jogador = jogador2\n",
        "  segundo_jogador = jogador1\n",
        "\n",
        "print('// Digite 0 para escolher PAR ou 1 para escolher ÍMPAR')\n",
        "escolha = input(f'-> {primeiro_jogador}, você quer par ou ímpar?')\n",
        "escolha2 = None\n",
        "\n",
        "if escolha == 'ímpar' or escolha == 'impar' or escolha == '1':\n",
        "  escolha = 'ímpar'\n",
        "  escolha2 = 'par'\n",
        "elif escolha == 'par' or escolha == '0':\n",
        "  escolha = 'par'\n",
        "  escolha2 = 'ímpar'\n",
        "\n",
        "print(f'// {segundo_jogador}, você ficou com {escolha2}.')\n",
        "\n",
        "numero1 = int(input(f'-> {primeiro_jogador}, escolha um número:'))\n",
        "numero2 = int(input(f'-> {segundo_jogador}, escolha um número:'))\n",
        "\n",
        "soma = numero1 + numero2\n",
        "\n",
        "if soma % 2 == 0:\n",
        "  vencedor = 'par'\n",
        "else:\n",
        "  vencedor = 'ímpar'\n",
        "\n",
        "if vencedor == escolha:\n",
        "  print(f'// {primeiro_jogador} venceu!')\n",
        "else:\n",
        "  print(f'// {segundo_jogador} venceu!')\n"
      ]
    }
  ]
}